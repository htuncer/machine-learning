{
 "cells": [
  {
   "cell_type": "markdown",
   "metadata": {},
   "source": [
    "### Detecting and Classifying Objects"
   ]
  },
  {
   "cell_type": "code",
   "execution_count": null,
   "metadata": {},
   "outputs": [],
   "source": [
    "import numpy as np\n",
    "import os\n",
    "import six.moves.urllib as urllib\n",
    "import sys\n",
    "import tarfile\n",
    "import tensorflow as tf\n",
    "import zipfile\n",
    "import cv2\n",
    "\n",
    "from collections import defaultdict\n",
    "from io import StringIO\n",
    "from matplotlib import pyplot as plt\n",
    "from PIL import Image\n",
    "\n",
    "from object_detection.utils import label_map_util\n",
    "\n",
    "from object_detection.utils import visualization_utils as vis_util\n",
    "\n",
    "from densenet import densenet_model\n"
   ]
  },
  {
   "cell_type": "code",
   "execution_count": null,
   "metadata": {
    "collapsed": true
   },
   "outputs": [],
   "source": [
    "# This is needed to display the images.\n",
    "%matplotlib inline\n",
    "sys.path.append(os.path.abspath('./tf_models'))\n",
    "sys.path.append(os.path.abspath('./tf_models/slim'))"
   ]
  },
  {
   "cell_type": "code",
   "execution_count": null,
   "metadata": {
    "collapsed": true
   },
   "outputs": [],
   "source": [
    "#READ finetuned FASTER_RCNN model\n",
    "# Path to frozen detection graph. This is the actual model that is used for the object detection.\n",
    "obj_detection_graph_path = 'models/faster_rcnn/output/frozen_inference_graph.pb'\n",
    "# List of the strings that is used to add correct label for each box.\n",
    "labels = \"data/label_map.pbtxt\"\n",
    "num_classes = 2\n",
    "\n",
    "detection_graph = tf.Graph()\n",
    "with detection_graph.as_default():\n",
    "  od_graph_def = tf.GraphDef()\n",
    "  with tf.gfile.GFile(obj_detection_graph_path, 'rb') as fid:\n",
    "    serialized_graph = fid.read()\n",
    "    od_graph_def.ParseFromString(serialized_graph)\n",
    "    tf.import_graph_def(od_graph_def, name='')\n",
    "    \n",
    "    \n",
    "label_map = label_map_util.load_labelmap(labels)\n",
    "categories = label_map_util.convert_label_map_to_categories(label_map, max_num_classes=num_classes, use_display_name=True)\n",
    "category_index = label_map_util.create_category_index(categories)"
   ]
  },
  {
   "cell_type": "code",
   "execution_count": null,
   "metadata": {},
   "outputs": [],
   "source": [
    "#READ finetuned DENSENET MODEL\n",
    "densenet_img_rows, densenet_img_cols = 224, 224  # Resolution of inputs\n",
    "channel = 3\n",
    "classification_model_path = 'models/densenet/densenet_finetuned.h5'\n",
    "classification_model = densenet_model(img_rows=densenet_img_rows, img_cols=densenet_img_cols,\n",
    "                                        color_type=channel, num_classes=num_classes, weights_path=classification_model_path)\n"
   ]
  },
  {
   "cell_type": "code",
   "execution_count": null,
   "metadata": {
    "collapsed": true
   },
   "outputs": [],
   "source": [
    "def load_image_into_numpy_array(image):\n",
    "  (im_width, im_height) = image.size\n",
    "  return np.array(image.getdata()).reshape(\n",
    "      (im_height, im_width, 3)).astype(np.uint8)\n",
    "\n",
    "#transform_img_for_densenet\n",
    "def detected_obj_box_to_densenet_input_images(image, boxes, densenet_img_rows, densenet_img_cols):\n",
    "    #gets full image, and boxes that faster rcnn labeled as objects\n",
    "    #returns list of individual images  (densenet_img_rows x densenet_img_cols)\n",
    "\n",
    "    #box syntax [y_min, x_min, y_max, x_max] & normalized values\n",
    "\n",
    "    im_width = image.shape[1]\n",
    "    im_height = image.shape[0]\n",
    "    images = list()\n",
    "    for box in boxes:\n",
    "        #denormalize\n",
    "        x_min = int(box[1]*im_width)\n",
    "        x_max = int(box[3]*im_width)\n",
    "        y_min = int(box[0]*im_height)\n",
    "        y_max = int(box[2]*im_height)\n",
    "        obj = image[y_min:y_max, x_min:x_max] #img[y: y + h, x: x + w]\n",
    "        img = cv2.resize(obj, (densenet_img_rows, densenet_img_cols)).astype(np.float32)\n",
    "        img[:, :, 0] -= 103.939\n",
    "        img[:, :, 1] -= 116.779\n",
    "        img[:, :, 2] -= 123.68\n",
    "        images.append(img)\n",
    "\n",
    "    return np.array(images)\n",
    "\n",
    "def interpred_predictions(predictions,boxes):\n",
    "    #gets densenet prediction and object box coordinates\n",
    "    #returns only vehicle box coordinates, confidence score and class list\n",
    "    score_list=list()\n",
    "    class_list = list()\n",
    "    box_list = list()\n",
    "    i=0\n",
    "    for pred in predictions:\n",
    "        if pred[0]<pred[1]:\n",
    "            #print(\"pred: %s is car\"%i)\n",
    "            score_list.append(pred[1])\n",
    "            class_list.append(1)\n",
    "            box_list.append(boxes[i])\n",
    "        i+=1\n",
    "    return (np.array(box_list),np.array(score_list),np.array(class_list))\n",
    "\n"
   ]
  },
  {
   "cell_type": "code",
   "execution_count": null,
   "metadata": {},
   "outputs": [],
   "source": [
    "#input video\n",
    "cap = cv2.VideoCapture('data/videos/test_video.mp4')\n",
    "#output video\n",
    "video = cv2.VideoWriter('data/video.avi',-1,1,(1280,720))\n",
    "    \n",
    "i = 0\n",
    "while(cap.isOpened()):\n",
    "    \n",
    "    i +=1\n",
    "    ret, image = cap.read()\n",
    "    image_np  = np.asarray(image)\n",
    "    \n",
    "    #FASTER R_CNN OBJECT DETECTION\n",
    "    with detection_graph.as_default():\n",
    "        with tf.Session(graph=detection_graph) as sess:\n",
    "                # Expand dimensions since the model expects images to have shape: [1, None, None, 3]           \n",
    "                image_np_expanded = np.expand_dims(image_np, axis=0)\n",
    "\n",
    "                image_tensor = detection_graph.get_tensor_by_name('image_tensor:0')\n",
    "                # Each box represents a part of the image where a particular object was detected.\n",
    "                boxes = detection_graph.get_tensor_by_name('detection_boxes:0')\n",
    "                # Each score represent how level of confidence for each of the objects.\n",
    "                # Score is shown on the result image, together with the class label.\n",
    "                scores = detection_graph.get_tensor_by_name('detection_scores:0')\n",
    "                classes = detection_graph.get_tensor_by_name('detection_classes:0')\n",
    "                num_detections = detection_graph.get_tensor_by_name('num_detections:0')\n",
    "                \n",
    "                # Actual detection.\n",
    "                (boxes, scores, classes, num_detections) = sess.run(\n",
    "                  [boxes, scores, classes, num_detections],\n",
    "                  feed_dict={image_tensor: image_np_expanded})\n",
    "                \n",
    "                max_output_size = 5\n",
    "                iou_threshold =0.5\n",
    "                selected_indices = tf.image.non_max_suppression( boxes[0], scores[0], max_output_size, iou_threshold=iou_threshold)\n",
    "                selected_boxes = list()\n",
    "                for j in selected_indices.eval():\n",
    "                    selected_boxes.append(boxes[0][j])\n",
    "\n",
    "                \n",
    "            \n",
    "    #DENSENET  OBJECT CLASSIFICATION\n",
    "    images=detected_obj_box_to_densenet_input_images(image_np, selected_boxes, densenet_img_rows, densenet_img_cols)\n",
    "    predictions = classification_model.predict(images, batch_size=1, verbose=1)\n",
    "    (vehicle_boxes, scores, classes) = interpred_predictions(predictions,selected_boxes)   \n",
    "    vis_util.visualize_boxes_and_labels_on_image_array(image_np,vehicle_boxes,classes,scores, category_index,use_normalized_coordinates=True,line_thickness=2)\n",
    "    video.write(image_np)\n",
    "\n",
    "cv2.destroyAllWindows()\n",
    "video.release()"
   ]
  },
  {
   "cell_type": "code",
   "execution_count": null,
   "metadata": {
    "collapsed": true
   },
   "outputs": [],
   "source": []
  }
 ],
 "metadata": {
  "kernelspec": {
   "display_name": "Python 3",
   "language": "python",
   "name": "python3"
  },
  "language_info": {
   "codemirror_mode": {
    "name": "ipython",
    "version": 3
   },
   "file_extension": ".py",
   "mimetype": "text/x-python",
   "name": "python",
   "nbconvert_exporter": "python",
   "pygments_lexer": "ipython3",
   "version": "3.5.3"
  }
 },
 "nbformat": 4,
 "nbformat_minor": 2
}
