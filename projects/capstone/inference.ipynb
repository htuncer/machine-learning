{
 "cells": [
  {
   "cell_type": "markdown",
   "metadata": {},
   "source": [
    "Faster R-CNN\n",
    "\n",
    "Import  (tutorial: https://github.com/tensorflow/models/blob/master/object_detection/object_detection_tutorial.ipynb)"
   ]
  },
  {
   "cell_type": "code",
   "execution_count": 1,
   "metadata": {
    "collapsed": true
   },
   "outputs": [],
   "source": [
    "import numpy as np\n",
    "import os\n",
    "import six.moves.urllib as urllib\n",
    "import sys\n",
    "import tarfile\n",
    "import tensorflow as tf\n",
    "import zipfile\n",
    "\n",
    "from collections import defaultdict\n",
    "from io import StringIO\n",
    "from matplotlib import pyplot as plt\n",
    "from PIL import Image\n",
    "\n",
    "from object_detection.utils import label_map_util\n",
    "\n",
    "from object_detection.utils import visualization_utils as vis_util\n",
    "\n",
    "import densenet\n"
   ]
  },
  {
   "cell_type": "code",
   "execution_count": 2,
   "metadata": {},
   "outputs": [
    {
     "name": "stdout",
     "output_type": "stream",
     "text": [
      "['', '/Users/tuncer/anaconda/envs/tensorflow/lib/python35.zip', '/Users/tuncer/anaconda/envs/tensorflow/lib/python3.5', '/Users/tuncer/anaconda/envs/tensorflow/lib/python3.5/plat-darwin', '/Users/tuncer/anaconda/envs/tensorflow/lib/python3.5/lib-dynload', '/Users/tuncer/anaconda/envs/tensorflow/lib/python3.5/site-packages', '/Users/tuncer/anaconda/envs/tensorflow/lib/python3.5/site-packages/setuptools-27.2.0-py3.5.egg', '/Users/tuncer/anaconda/envs/tensorflow/lib/python3.5/site-packages/IPython/extensions', '/Users/tuncer/.ipython', '/Users/tuncer/Documents/Dev/machine-learning/projects/capstone/tf_models']\n"
     ]
    }
   ],
   "source": [
    "# This is needed to display the images.\n",
    "%matplotlib inline\n",
    "sys.path.append(os.path.abspath('./tf_models'))\n",
    "sys.path.append(os.path.abspath('./tf_models/slim'))"
   ]
  },
  {
   "cell_type": "code",
   "execution_count": 5,
   "metadata": {
    "collapsed": true
   },
   "outputs": [],
   "source": [
    "#READ finetuned FASTER_RCNN model\n",
    "# Path to frozen detection graph. This is the actual model that is used for the object detection.\n",
    "detection_model_path = 'models/faster_rcnn/output/frozen_inference_graph.pb'\n",
    "# List of the strings that is used to add correct label for each box.\n",
    "labels = \"data/label_map.pbtxt\"\n",
    "num_classes = 2\n",
    "\n",
    "detection_graph = tf.Graph()\n",
    "with detection_graph.as_default():\n",
    "  od_graph_def = tf.GraphDef()\n",
    "  with tf.gfile.GFile(obj_detection_graph_path, 'rb') as fid:\n",
    "    serialized_graph = fid.read()\n",
    "    od_graph_def.ParseFromString(serialized_graph)\n",
    "    tf.import_graph_def(od_graph_def, name='')\n",
    "    \n",
    "    \n",
    "label_map = label_map_util.load_labelmap(labels)\n",
    "categories = label_map_util.convert_label_map_to_categories(label_map, max_num_classes=num_classes, use_display_name=True)\n",
    "category_index = label_map_util.create_category_index(categories)"
   ]
  },
  {
   "cell_type": "code",
   "execution_count": 6,
   "metadata": {
    "collapsed": true
   },
   "outputs": [],
   "source": [
    "#READ finetuned DENSENET MODEL\n",
    "img_rows, img_cols = 224, 224  # Resolution of inputs\n",
    "channel = 3\n",
    "classification_model_path = 'models/densenet/DenseNet_finetuned_std.h5'\n",
    "classification_model = densenet161_model(img_rows=img_rows, img_cols=img_cols,\n",
    "                                        color_type=channel, num_classes=num_classes, weights_path=classification_model_path)\n"
   ]
  },
  {
   "cell_type": "code",
   "execution_count": 8,
   "metadata": {
    "collapsed": true
   },
   "outputs": [],
   "source": []
  },
  {
   "cell_type": "code",
   "execution_count": 9,
   "metadata": {
    "collapsed": true
   },
   "outputs": [],
   "source": [
    "def load_image_into_numpy_array(image):\n",
    "  (im_width, im_height) = image.size\n",
    "  return np.array(image.getdata()).reshape(\n",
    "      (im_height, im_width, 3)).astype(np.uint8)\n",
    "\n",
    "def get_obj_img(img,boxes, scores,classes):\n",
    "    #get the index of the object with highest score\n",
    "    i = scores.argsort()[1:]\n",
    "    print('class %d:%s\\nboxes %s\\n'%(classes[i]), scores[i],boxes[i])\n",
    "    box = boxes[i] #box [y_min, x_min, y_max, x_max]\n",
    "    cropped=img[box[0]:box[2],box[1]:box[3]] #img[y: y + h, x: x + w]\n",
    "    return (box,cropped)\n",
    "\n",
    "def transform_img_for_densenet(identified_obj, img_rows, img_cols):\n",
    "    img = cv2.resize(identified_obj, (img_rows, img_cols)).astype(np.float32)\n",
    "    img[:, :, 0] -= 103.939\n",
    "    img[:, :, 1] -= 116.779\n",
    "    img[:, :, 2] -= 123.68\n",
    "    return img"
   ]
  },
  {
   "cell_type": "code",
   "execution_count": 12,
   "metadata": {
    "collapsed": true
   },
   "outputs": [],
   "source": [
    "video_img_paths = ['data/videos/frames/297.png' ]\n",
    "\n",
    "# Size, in inches, of the output images.\n",
    "IMAGE_SIZE = (300, 300)"
   ]
  },
  {
   "cell_type": "code",
   "execution_count": 13,
   "metadata": {},
   "outputs": [
    {
     "name": "stdout",
     "output_type": "stream",
     "text": [
      "HASANN\n",
      " boxes\n",
      "[[[ 0.34865519  0.31857994  0.50925815  0.39462045]\n",
      "  [ 0.24961147  0.24611875  0.54292208  0.41034749]\n",
      "  [ 0.2930885   0.31628275  0.45957983  0.39563566]\n",
      "  [ 0.34515709  0.29667678  0.50801951  0.36646494]\n",
      "  [ 0.          0.60574001  0.94770509  0.95205975]\n",
      "  [ 0.          0.38290977  0.51582956  0.95755625]\n",
      "  [ 0.22023143  0.01267297  1.          0.33477658]\n",
      "  [ 0.09660897  0.46115491  0.87764394  0.92580366]\n",
      "  [ 0.          0.          0.75366539  0.27835292]\n",
      "  [ 0.25059724  0.26501715  0.54139709  0.42232996]\n",
      "  [ 0.34868115  0.36041486  0.49828207  0.43935269]\n",
      "  [ 0.00194949  0.31983808  0.14217754  0.4055883 ]\n",
      "  [ 0.          0.83428413  0.28860795  0.97024703]\n",
      "  [ 0.08381744  0.11159515  0.3973226   0.27395087]\n",
      "  [ 0.          0.          0.67549032  0.48269716]\n",
      "  [ 0.01929098  0.04591932  0.92799389  0.64080447]\n",
      "  [ 0.18773793  0.49475038  0.3435412   0.57161754]\n",
      "  [ 0.21321495  0.          0.90490514  0.28924352]\n",
      "  [ 0.          0.          0.25013962  0.12166946]\n",
      "  [ 0.65578592  0.          0.96441317  0.14660724]\n",
      "  [ 0.38363621  0.38681003  0.53092915  0.47203431]\n",
      "  [ 0.19387065  0.3776775   0.34545717  0.45570633]\n",
      "  [ 0.28863895  0.3163887   0.4525826   0.38635251]\n",
      "  [ 0.23685786  0.39447048  0.41325104  0.46764097]\n",
      "  [ 0.06598478  0.          0.38550735  0.11810546]\n",
      "  [ 0.53357148  0.          0.88287383  0.09003126]\n",
      "  [ 0.70692492  0.06148161  0.87935477  0.12857097]\n",
      "  [ 0.32244024  0.5260762   0.95094156  0.91705376]\n",
      "  [ 0.43133995  0.32162231  0.57862812  0.40598094]\n",
      "  [ 0.26937425  0.4217934   0.45546088  0.49035066]\n",
      "  [ 0.38300467  0.35412344  0.52313215  0.42781708]\n",
      "  [ 0.26051128  0.40739924  0.44150808  0.47697914]\n",
      "  [ 0.19568451  0.32394257  0.34502548  0.4009901 ]\n",
      "  [ 0.          0.3384198   0.60040653  0.99009788]\n",
      "  [ 0.21976589  0.37747681  0.37735331  0.45888993]\n",
      "  [ 0.43521389  0.28380677  0.57624191  0.36605087]\n",
      "  [ 0.          0.          0.1411659   0.13135152]\n",
      "  [ 0.05167155  0.41880259  1.          1.        ]\n",
      "  [ 0.2538403   0.9135316   0.4181453   0.97923964]\n",
      "  [ 0.30570406  0.35949636  0.46287695  0.43731457]\n",
      "  [ 0.23510179  0.3639833   0.39287668  0.44438654]\n",
      "  [ 0.33438382  0.39541     0.50919735  0.45879743]\n",
      "  [ 0.25281626  0.38011411  0.43072703  0.45184064]\n",
      "  [ 0.18136081  0.30952102  0.33164167  0.38664654]\n",
      "  [ 0.29127881  0.48446286  0.45625815  0.55217975]\n",
      "  [ 0.07513089  0.          0.38547519  0.12780824]\n",
      "  [ 0.25426897  0.          0.94688559  0.52736092]\n",
      "  [ 0.          0.          0.86594057  0.29198644]\n",
      "  [ 0.          0.74418813  0.20844524  0.95338696]\n",
      "  [ 0.0894354   0.09394129  0.39125612  0.24775422]\n",
      "  [ 0.3151789   0.55339044  0.47708321  0.61966991]\n",
      "  [ 0.32295722  0.38259798  0.49297801  0.44538534]\n",
      "  [ 0.21042804  0.36349055  0.35713419  0.44223553]\n",
      "  [ 0.46820679  0.3463704   0.60785323  0.43676859]\n",
      "  [ 0.3426173   0.38652134  0.49416652  0.46954611]\n",
      "  [ 0.39710444  0.25677681  0.53910172  0.33562467]\n",
      "  [ 0.2441847   0.43619299  0.42404279  0.50329638]\n",
      "  [ 0.68358618  0.0765992   0.85241801  0.14056806]\n",
      "  [ 0.28877434  0.56559145  0.4414317   0.63315433]\n",
      "  [ 0.21274328  0.40704268  0.38047674  0.48306409]\n",
      "  [ 0.28330803  0.48774111  0.43842509  0.5720399 ]\n",
      "  [ 0.54327047  0.56456017  0.70146853  0.62967128]\n",
      "  [ 0.29515469  0.51318628  0.456898    0.57746565]\n",
      "  [ 0.76733118  0.          0.98705775  0.11779427]\n",
      "  [ 0.39142066  0.37489533  0.54453456  0.44959778]\n",
      "  [ 0.16154946  0.85157722  0.39411435  0.97405553]\n",
      "  [ 0.50528955  0.50185359  0.65548527  0.566742  ]\n",
      "  [ 0.53136373  0.48842037  0.68506318  0.5554167 ]\n",
      "  [ 0.28286806  0.4481394   0.4671689   0.51443994]\n",
      "  [ 0.20696938  0.42213091  0.36190835  0.49650478]\n",
      "  [ 0.19839819  0.47016272  0.35644487  0.54703224]\n",
      "  [ 0.35589805  0.34522828  0.50347453  0.41630483]\n",
      "  [ 0.51982033  0.49265885  0.66509885  0.57563138]\n",
      "  [ 0.48382482  0.30892336  0.62381202  0.39606225]\n",
      "  [ 0.19899933  0.          0.35521352  0.06095089]\n",
      "  [ 0.34469318  0.30200034  0.4969016   0.37433726]\n",
      "  [ 0.54227298  0.50207531  0.69627029  0.56786674]\n",
      "  [ 0.24648997  0.35149258  0.41130275  0.42796978]\n",
      "  [ 0.19971213  0.00611862  1.          0.57539415]\n",
      "  [ 0.37235859  0.2455956   0.51943183  0.32274866]\n",
      "  [ 0.          0.297176    0.1869985   0.45834449]\n",
      "  [ 0.          0.09946724  0.18729857  0.23204418]\n",
      "  [ 0.20928179  0.82850081  0.42746803  0.9760645 ]\n",
      "  [ 0.          0.32873869  0.13408442  0.41464069]\n",
      "  [ 0.47172862  0.31290603  0.62804961  0.38904881]\n",
      "  [ 0.23515363  0.55134332  0.3813374   0.62590677]\n",
      "  [ 0.30403093  0.57904148  0.4656769   0.64917493]\n",
      "  [ 0.26895344  0.53828645  0.42719856  0.60230744]\n",
      "  [ 0.          0.          0.13305376  0.15529583]\n",
      "  [ 0.31410542  0.73521274  0.51160556  0.95632112]\n",
      "  [ 0.31474847  0.11053146  0.53093672  0.33364639]\n",
      "  [ 0.          0.01248969  0.18302694  0.17841282]\n",
      "  [ 0.45206118  0.33509329  0.58875155  0.41982147]\n",
      "  [ 0.25647852  0.46149305  0.43701077  0.5273692 ]\n",
      "  [ 0.3291291   0.55511004  1.          0.99294966]\n",
      "  [ 0.22112735  0.55828208  0.36869743  0.63522238]\n",
      "  [ 0.17036696  0.29379061  0.31977293  0.37274438]\n",
      "  [ 0.21400477  0.48147538  0.35716662  0.55918217]\n",
      "  [ 0.04974912  0.          0.27424988  0.12977161]\n",
      "  [ 0.49753726  0.50393218  0.64371878  0.58468783]]]\n",
      "\n",
      " scores\n",
      "[[ 0.34839901  0.32487491  0.30317926  0.28040701  0.26721683  0.23817635\n",
      "   0.22705273  0.22211513  0.20962185  0.20957649  0.20169891  0.20132977\n",
      "   0.19523096  0.18797889  0.18479542  0.1742859   0.17209131  0.1633053\n",
      "   0.15883453  0.15624204  0.15584087  0.15521178  0.15389787  0.15288395\n",
      "   0.15249734  0.14935108  0.14885993  0.1486108   0.14792278  0.14628896\n",
      "   0.1454071   0.1382073   0.13660806  0.1349984   0.13371627  0.13347933\n",
      "   0.13245732  0.13087438  0.12976675  0.12938793  0.12886219  0.12797248\n",
      "   0.12490323  0.12370878  0.12323933  0.12211907  0.12100071  0.12094834\n",
      "   0.12002056  0.11924954  0.11910835  0.11897939  0.11886869  0.11872699\n",
      "   0.11857133  0.11639202  0.11451527  0.11439105  0.11365175  0.11308213\n",
      "   0.11300401  0.11265846  0.1116816   0.11056372  0.11053029  0.108563\n",
      "   0.10854403  0.10838142  0.10837471  0.10832547  0.10810215  0.10787071\n",
      "   0.10740012  0.10629857  0.10622461  0.10617557  0.10597057  0.10565214\n",
      "   0.10463334  0.10389521  0.10236212  0.09924605  0.09886684  0.09788661\n",
      "   0.09719563  0.09599892  0.09593453  0.09529024  0.0952765   0.09475221\n",
      "   0.09455226  0.09439131  0.09408693  0.09363538  0.0934955   0.09194329\n",
      "   0.09155367  0.09098801  0.09076886  0.09065274]]\n",
      "\n",
      " classes:[[ 1.  2.  1.  1.  2.  2.  1.  2.  2.  1.  1.  2.  2.  1.  2.  2.  1.  2.\n",
      "   2.  2.  1.  1.  2.  2.  2.  2.  2.  2.  1.  2.  2.  2.  1.  1.  2.  1.\n",
      "   2.  1.  2.  1.  2.  2.  2.  1.  2.  1.  2.  1.  2.  2.  2.  2.  1.  1.\n",
      "   1.  1.  2.  2.  2.  2.  1.  2.  2.  2.  2.  2.  2.  2.  2.  2.  1.  2.\n",
      "   1.  1.  2.  2.  2.  2.  1.  1.  2.  2.  2.  1.  2.  2.  2.  2.  1.  2.\n",
      "   2.  1.  1.  2.  1.  1.  1.  2.  1.  1.]]\n",
      "\n",
      "\n",
      " num_detections:[ 100.]\n",
      "\n"
     ]
    },
    {
     "data": {
      "image/png": "[encoded data removed]",
      "text/plain": [
       "<matplotlib.figure.Figure at 0x105af9390>"
      ]
     },
     "metadata": {},
     "output_type": "display_data"
    }
   ],
   "source": [
    "\n",
    "cap = cv2.VideoCapture('data/videos/project_video.mp4')\n",
    "        \n",
    "with detection_graph.as_default():\n",
    "    with tf.Session(graph=detection_graph) as sess:\n",
    "        while(cap.isOpened()):\n",
    "            \n",
    "            cn+=1\n",
    "            ret, frame = cap.read()\n",
    "            #image = Image.open(image_path)\n",
    "            # the array based representation of the image will be used later in order to prepare the\n",
    "            # result image with boxes and labels on it.\n",
    "            #image_np = load_image_into_numpy_array(image)\n",
    "            \n",
    "            # Expand dimensions since the model expects images to have shape: [1, None, None, 3]\n",
    "            print(1)\n",
    "            image_np_expanded = np.expand_dims(frame, axis=0)\n",
    "            print(2)\n",
    "            image_tensor = detection_graph.get_tensor_by_name('image_tensor:0')\n",
    "            # Each box represents a part of the image where a particular object was detected.\n",
    "            boxes = detection_graph.get_tensor_by_name('detection_boxes:0')\n",
    "            # Each score represent how level of confidence for each of the objects.\n",
    "            # Score is shown on the result image, together with the class label.\n",
    "            scores = detection_graph.get_tensor_by_name('detection_scores:0')\n",
    "            classes = detection_graph.get_tensor_by_name('detection_classes:0')\n",
    "            num_detections = detection_graph.get_tensor_by_name('num_detections:0')\n",
    "            # Actual detection.\n",
    "            (boxes, scores, classes, num_detections) = sess.run(\n",
    "              [boxes, scores, classes, num_detections],\n",
    "              feed_dict={image_tensor: image_np_expanded})\n",
    "            print(\"boxes\\n%s\\n\\n scores\\n%s\\n\\n classes:%s\\n\\n\\n num_detections:%s\\n\"%(boxes, scores, classes, num_detections))\n",
    "            # Visualization of the results of a detection.\n",
    "            #box [y_min, x_min, y_max, x_max]\n",
    "            identified_obj = get_obj_img(frame, boxes, scores,classes):\n",
    "            box, img=transform_img_for_densenet(identified_obj,img_rows, img_cols)\n",
    "            densenet_input = np.array([img])\n",
    "            print('\\n\\n\\n\\nPredicting')\n",
    "            predictions = classification_model.predict(densenet_input, batch_size=1, verbose=1)\n",
    "            #[<confidence on obj is non-vehicle>,<confidence score on object is vehicle>]\n",
    "            #check if the object is vehicle\n",
    "            if predictions[1]>predictions[0]:\n",
    "                #draw the image on the video    \n",
    "                vs_util.draw_bounding_box_on_image_array(frame,box[0],box[1],box[2],box[3])\n",
    "                plt.figure(figsize=IMAGE_SIZE)\n",
    "                plt.imshow(image_np)\n",
    "            \n",
    "            break\n"
   ]
  },
  {
   "cell_type": "code",
   "execution_count": null,
   "metadata": {
    "collapsed": true
   },
   "outputs": [],
   "source": [
    "file_writer = tf.summary.FileWriter('logs', detection_graph)"
   ]
  },
  {
   "cell_type": "code",
   "execution_count": null,
   "metadata": {
    "collapsed": true
   },
   "outputs": [],
   "source": [
    "            \n",
    "            vis_util.visualize_boxes_and_labels_on_image_array(\n",
    "              image_np,\n",
    "              np.squeeze(boxes),\n",
    "              np.squeeze(classes).astype(np.int32),\n",
    "              np.squeeze(scores),\n",
    "              category_index,\n",
    "              use_normalized_coordinates=True,\n",
    "              line_thickness=8)\n",
    "            cv2.imshow('object detection', cv2.resize(image_np, (800,600)))\n",
    "            if cv2.waitKey(25) & 0xFF == ord('q'):\n",
    "                cv2.destroyAllWindows()\n",
    "                break\n",
    "\n",
    "          plt.figure(figsize=IMAGE_SIZE)\n",
    "          plt.imshow(image_np)"
   ]
  }
 ],
 "metadata": {
  "kernelspec": {
   "display_name": "Python 3",
   "language": "python",
   "name": "python3"
  },
  "language_info": {
   "codemirror_mode": {
    "name": "ipython",
    "version": 3
   },
   "file_extension": ".py",
   "mimetype": "text/x-python",
   "name": "python",
   "nbconvert_exporter": "python",
   "pygments_lexer": "ipython3",
   "version": "3.5.3"
  }
 },
 "nbformat": 4,
 "nbformat_minor": 2
}
