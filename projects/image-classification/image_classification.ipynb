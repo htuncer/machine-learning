{
 "cells": [
  {
   "cell_type": "markdown",
   "metadata": {
    "collapsed": true
   },
   "source": [
    "# Image Classification\n",
    "In this project, you'll classify images from the [CIFAR-10 dataset](https://www.cs.toronto.edu/~kriz/cifar.html).  The dataset consists of airplanes, dogs, cats, and other objects. You'll preprocess the images, then train a convolutional neural network on all the samples. The images need to be normalized and the labels need to be one-hot encoded.  You'll get to apply what you learned and build a convolutional, max pooling, dropout, and fully connected layers.  At the end, you'll get to see your neural network's predictions on the sample images.\n",
    "## Get the Data\n",
    "Run the following cell to download the [CIFAR-10 dataset for python](https://www.cs.toronto.edu/~kriz/cifar-10-python.tar.gz)."
   ]
  },
  {
   "cell_type": "code",
   "execution_count": 1,
   "metadata": {},
   "outputs": [
    {
     "name": "stderr",
     "output_type": "stream",
     "text": [
      "CIFAR-10 Dataset: 171MB [13:24, 212KB/s]                               \n"
     ]
    },
    {
     "name": "stdout",
     "output_type": "stream",
     "text": [
      "All files found!\n"
     ]
    }
   ],
   "source": [
    "\"\"\"\n",
    "DON'T MODIFY ANYTHING IN THIS CELL THAT IS BELOW THIS LINE\n",
    "\"\"\"\n",
    "from urllib.request import urlretrieve\n",
    "from os.path import isfile, isdir\n",
    "from tqdm import tqdm\n",
    "import problem_unittests as tests\n",
    "import tarfile\n",
    "\n",
    "cifar10_dataset_folder_path = 'cifar-10-batches-py'\n",
    "\n",
    "class DLProgress(tqdm):\n",
    "    last_block = 0\n",
    "\n",
    "    def hook(self, block_num=1, block_size=1, total_size=None):\n",
    "        self.total = total_size\n",
    "        self.update((block_num - self.last_block) * block_size)\n",
    "        self.last_block = block_num\n",
    "\n",
    "if not isfile('cifar-10-python.tar.gz'):\n",
    "    with DLProgress(unit='B', unit_scale=True, miniters=1, desc='CIFAR-10 Dataset') as pbar:\n",
    "        urlretrieve(\n",
    "            'https://www.cs.toronto.edu/~kriz/cifar-10-python.tar.gz',\n",
    "            'cifar-10-python.tar.gz',\n",
    "            pbar.hook)\n",
    "\n",
    "if not isdir(cifar10_dataset_folder_path):\n",
    "    with tarfile.open('cifar-10-python.tar.gz') as tar:\n",
    "        tar.extractall()\n",
    "        tar.close()\n",
    "\n",
    "\n",
    "tests.test_folder_path(cifar10_dataset_folder_path)"
   ]
  },
  {
   "cell_type": "markdown",
   "metadata": {},
   "source": [
    "## Explore the Data\n",
    "The dataset is broken into batches to prevent your machine from running out of memory.  The CIFAR-10 dataset consists of 5 batches, named `data_batch_1`, `data_batch_2`, etc.. Each batch contains the labels and images that are one of the following:\n",
    "* airplane\n",
    "* automobile\n",
    "* bird\n",
    "* cat\n",
    "* deer\n",
    "* dog\n",
    "* frog\n",
    "* horse\n",
    "* ship\n",
    "* truck\n",
    "\n",
    "Understanding a dataset is part of making predictions on the data.  Play around with the code cell below by changing the `batch_id` and `sample_id`. The `batch_id` is the id for a batch (1-5). The `sample_id` is the id for a image and label pair in the batch.\n",
    "\n",
    "Ask yourself \"What are all possible labels?\", \"What is the range of values for the image data?\", \"Are the labels in order or random?\".  Answers to questions like these will help you preprocess the data and end up with better predictions."
   ]
  },
  {
   "cell_type": "code",
   "execution_count": 10,
   "metadata": {},
   "outputs": [
    {
     "name": "stdout",
     "output_type": "stream",
     "text": [
      "\n",
      "Stats of batch 1:\n",
      "Samples: 10000\n",
      "Label Counts: {0: 1005, 1: 974, 2: 1032, 3: 1016, 4: 999, 5: 937, 6: 1030, 7: 1001, 8: 1025, 9: 981}\n",
      "First 20 Labels: [6, 9, 9, 4, 1, 1, 2, 7, 8, 3, 4, 7, 7, 2, 9, 9, 9, 3, 2, 6]\n",
      "\n",
      "Example of Image 2:\n",
      "Image - Min Value: 20 Max Value: 255\n",
      "Image - Shape: (32, 32, 3)\n",
      "Label - Label Id: 9 Name: truck\n"
     ]
    },
    {
     "data": {
      "image/png": "[encoded data removed]",
      "text/plain": [
       "<matplotlib.figure.Figure at 0x125fa2eb8>"
      ]
     },
     "metadata": {
      "image/png": {
       "height": 250,
       "width": 253
      }
     },
     "output_type": "display_data"
    }
   ],
   "source": [
    "%matplotlib inline\n",
    "%config InlineBackend.figure_format = 'retina'\n",
    "\n",
    "import helper\n",
    "import numpy as np\n",
    "\n",
    "# Explore the dataset\n",
    "batch_id = 1\n",
    "sample_id = 2\n",
    "helper.display_stats(cifar10_dataset_folder_path, batch_id, sample_id)"
   ]
  },
  {
   "cell_type": "markdown",
   "metadata": {},
   "source": [
    "## Implement Preprocess Functions\n",
    "### Normalize\n",
    "In the cell below, implement the `normalize` function to take in image data, `x`, and return it as a normalized Numpy array. The values should be in the range of 0 to 1, inclusive.  The return object should be the same shape as `x`."
   ]
  },
  {
   "cell_type": "code",
   "execution_count": 15,
   "metadata": {},
   "outputs": [
    {
     "name": "stdout",
     "output_type": "stream",
     "text": [
      "[[[[ 1.          0.08235294  0.76078431]\n",
      "   [ 0.68235294  0.25490196  0.79607843]\n",
      "   [ 0.18431373  0.66666667  0.10196078]\n",
      "   ..., \n",
      "   [ 0.07843137  0.79607843  0.64705882]\n",
      "   [ 0.50980392  0.38431373  0.9372549 ]\n",
      "   [ 0.87058824  0.32156863  0.01568627]]\n",
      "\n",
      "  [[ 0.06666667  0.80784314  0.92156863]\n",
      "   [ 0.11764706  0.98823529  0.84705882]\n",
      "   [ 0.25490196  0.05882353  0.49019608]\n",
      "   ..., \n",
      "   [ 0.26666667  0.79215686  0.55294118]\n",
      "   [ 0.3254902   0.17254902  0.41568627]\n",
      "   [ 0.01568627  0.41568627  0.89019608]]\n",
      "\n",
      "  [[ 0.4627451   0.07058824  0.56470588]\n",
      "   [ 0.07058824  0.7372549   0.96470588]\n",
      "   [ 0.98823529  0.08235294  0.70980392]\n",
      "   ..., \n",
      "   [ 0.33333333  0.29803922  0.39607843]\n",
      "   [ 0.22352941  0.58823529  0.85882353]\n",
      "   [ 0.71764706  0.96078431  0.04705882]]\n",
      "\n",
      "  ..., \n",
      "  [[ 0.          0.81960784  0.2       ]\n",
      "   [ 0.98039216  0.60784314  0.14509804]\n",
      "   [ 0.99215686  0.01568627  0.52156863]\n",
      "   ..., \n",
      "   [ 0.23529412  0.6627451   0.1372549 ]\n",
      "   [ 0.32941176  0.63921569  0.00784314]\n",
      "   [ 0.6         1.          0.08235294]]\n",
      "\n",
      "  [[ 0.73333333  0.39215686  0.4745098 ]\n",
      "   [ 0.46666667  0.6745098   0.61176471]\n",
      "   [ 0.49411765  0.68235294  0.9372549 ]\n",
      "   ..., \n",
      "   [ 0.72156863  0.54117647  0.08627451]\n",
      "   [ 0.41960784  0.62352941  0.37647059]\n",
      "   [ 0.2         0.73333333  0.07843137]]\n",
      "\n",
      "  [[ 0.90588235  0.60784314  0.56078431]\n",
      "   [ 0.37647059  0.76470588  0.50196078]\n",
      "   [ 0.49803922  0.17254902  0.00392157]\n",
      "   ..., \n",
      "   [ 0.98039216  0.50196078  0.19607843]\n",
      "   [ 0.3254902   0.39607843  0.97647059]\n",
      "   [ 0.56862745  0.40784314  0.3254902 ]]]\n",
      "\n",
      "\n",
      " [[[ 0.01960784  0.61176471  0.37254902]\n",
      "   [ 0.75686275  0.8         0.16470588]\n",
      "   [ 0.85098039  0.41568627  0.79607843]\n",
      "   ..., \n",
      "   [ 0.69019608  0.98823529  0.62745098]\n",
      "   [ 0.94901961  0.47843137  0.38431373]\n",
      "   [ 0.17647059  0.68235294  0.10980392]]\n",
      "\n",
      "  [[ 0.41568627  0.72156863  0.55294118]\n",
      "   [ 0.78039216  0.04705882  0.05882353]\n",
      "   [ 0.69803922  0.90980392  0.94117647]\n",
      "   ..., \n",
      "   [ 0.4745098   0.          0.20784314]\n",
      "   [ 0.00784314  0.85490196  0.18823529]\n",
      "   [ 0.45098039  0.81960784  0.67843137]]\n",
      "\n",
      "  [[ 0.76862745  0.51764706  0.65098039]\n",
      "   [ 0.90588235  0.59607843  0.49803922]\n",
      "   [ 0.2         0.15686275  0.86666667]\n",
      "   ..., \n",
      "   [ 0.48627451  0.01960784  0.98431373]\n",
      "   [ 0.06666667  0.83921569  0.45490196]\n",
      "   [ 0.56862745  0.49803922  0.79607843]]\n",
      "\n",
      "  ..., \n",
      "  [[ 0.75294118  0.94509804  0.38823529]\n",
      "   [ 0.82745098  0.57647059  0.61176471]\n",
      "   [ 0.74901961  0.57647059  0.92941176]\n",
      "   ..., \n",
      "   [ 0.44313725  0.75294118  0.45490196]\n",
      "   [ 0.6627451   0.03137255  0.91764706]\n",
      "   [ 0.69803922  0.23921569  0.74117647]]\n",
      "\n",
      "  [[ 0.16862745  0.48235294  0.90588235]\n",
      "   [ 0.84705882  0.47843137  0.22352941]\n",
      "   [ 0.02352941  0.76470588  0.20392157]\n",
      "   ..., \n",
      "   [ 0.96470588  0.09411765  0.28235294]\n",
      "   [ 0.35686275  0.15294118  0.94901961]\n",
      "   [ 0.61568627  0.83529412  0.71764706]]\n",
      "\n",
      "  [[ 0.13333333  0.50196078  0.75294118]\n",
      "   [ 0.08627451  0.31372549  0.01176471]\n",
      "   [ 0.38431373  0.09411765  0.85490196]\n",
      "   ..., \n",
      "   [ 0.9372549   0.01176471  0.97647059]\n",
      "   [ 0.55294118  0.72941176  0.1254902 ]\n",
      "   [ 0.8627451   0.37647059  0.94509804]]]\n",
      "\n",
      "\n",
      " [[[ 0.26666667  0.49019608  0.9372549 ]\n",
      "   [ 0.36862745  0.35294118  0.08627451]\n",
      "   [ 0.69411765  0.78431373  0.64313725]\n",
      "   ..., \n",
      "   [ 0.41568627  0.49803922  0.18823529]\n",
      "   [ 0.64705882  0.15294118  0.78039216]\n",
      "   [ 0.46666667  0.84313725  0.18823529]]\n",
      "\n",
      "  [[ 0.37254902  0.77647059  0.23921569]\n",
      "   [ 0.91372549  0.78823529  0.39607843]\n",
      "   [ 0.92941176  0.46666667  0.92156863]\n",
      "   ..., \n",
      "   [ 0.99607843  0.2         0.68627451]\n",
      "   [ 0.0627451   0.51764706  0.16470588]\n",
      "   [ 0.78039216  0.93333333  0.20784314]]\n",
      "\n",
      "  [[ 0.31764706  0.69803922  0.57254902]\n",
      "   [ 0.90980392  0.58823529  0.9254902 ]\n",
      "   [ 0.25490196  0.74117647  0.6627451 ]\n",
      "   ..., \n",
      "   [ 0.88235294  0.42352941  0.66666667]\n",
      "   [ 0.30980392  0.34901961  0.6       ]\n",
      "   [ 0.25882353  0.94117647  0.38431373]]\n",
      "\n",
      "  ..., \n",
      "  [[ 0.22745098  0.          0.37647059]\n",
      "   [ 0.19607843  0.4627451   0.42745098]\n",
      "   [ 0.64313725  0.80784314  0.88627451]\n",
      "   ..., \n",
      "   [ 0.85490196  0.67058824  0.61176471]\n",
      "   [ 0.51372549  0.14901961  0.69803922]\n",
      "   [ 0.03529412  0.03921569  0.67058824]]\n",
      "\n",
      "  [[ 0.29019608  0.19607843  0.48235294]\n",
      "   [ 0.10980392  0.89411765  0.27058824]\n",
      "   [ 0.49019608  0.70588235  0.72156863]\n",
      "   ..., \n",
      "   [ 0.61176471  0.88235294  0.34509804]\n",
      "   [ 0.69803922  0.70588235  0.87058824]\n",
      "   [ 0.60392157  0.01568627  0.74509804]]\n",
      "\n",
      "  [[ 0.35686275  0.33333333  0.27058824]\n",
      "   [ 0.07058824  0.59607843  0.63529412]\n",
      "   [ 0.63137255  0.1254902   0.77254902]\n",
      "   ..., \n",
      "   [ 0.50980392  0.45098039  0.23921569]\n",
      "   [ 0.30588235  0.45882353  0.09803922]\n",
      "   [ 0.39215686  0.20392157  0.35294118]]]\n",
      "\n",
      "\n",
      " ..., \n",
      " [[[ 0.30588235  0.9254902   0.61176471]\n",
      "   [ 0.59215686  0.84313725  0.0745098 ]\n",
      "   [ 0.65098039  0.05098039  0.77254902]\n",
      "   ..., \n",
      "   [ 0.9254902   0.65490196  0.70980392]\n",
      "   [ 0.42352941  0.05490196  0.61568627]\n",
      "   [ 0.03137255  0.37254902  0.31372549]]\n",
      "\n",
      "  [[ 0.05882353  0.65882353  1.        ]\n",
      "   [ 0.12156863  0.36078431  0.85490196]\n",
      "   [ 0.40392157  0.95294118  0.58039216]\n",
      "   ..., \n",
      "   [ 0.10196078  0.05882353  0.86666667]\n",
      "   [ 0.67843137  0.74509804  0.74117647]\n",
      "   [ 1.          0.56862745  0.10196078]]\n",
      "\n",
      "  [[ 0.98039216  0.71372549  0.16470588]\n",
      "   [ 0.56862745  0.83137255  0.86666667]\n",
      "   [ 0.72156863  0.56078431  0.83137255]\n",
      "   ..., \n",
      "   [ 0.29019608  0.9254902   0.25882353]\n",
      "   [ 0.72941176  0.38823529  0.5372549 ]\n",
      "   [ 0.8627451   0.87843137  0.52941176]]\n",
      "\n",
      "  ..., \n",
      "  [[ 0.54117647  0.14509804  0.81960784]\n",
      "   [ 0.63137255  0.77647059  0.53333333]\n",
      "   [ 0.68627451  0.45490196  0.56078431]\n",
      "   ..., \n",
      "   [ 0.79607843  0.          0.84705882]\n",
      "   [ 0.00392157  0.56862745  0.94117647]\n",
      "   [ 0.49411765  0.45098039  0.09411765]]\n",
      "\n",
      "  [[ 0.91764706  0.11764706  0.6627451 ]\n",
      "   [ 0.70196078  0.70588235  0.95294118]\n",
      "   [ 0.42352941  0.65490196  0.58431373]\n",
      "   ..., \n",
      "   [ 0.59607843  0.60392157  0.57254902]\n",
      "   [ 0.51372549  0.2745098   0.12941176]\n",
      "   [ 0.04705882  0.61568627  0.86666667]]\n",
      "\n",
      "  [[ 0.99215686  0.0745098   0.37647059]\n",
      "   [ 0.51764706  0.37647059  0.29803922]\n",
      "   [ 0.91372549  0.32156863  0.4       ]\n",
      "   ..., \n",
      "   [ 0.28627451  0.79215686  0.10588235]\n",
      "   [ 0.95686275  0.34509804  0.63529412]\n",
      "   [ 0.38431373  0.50980392  0.16862745]]]\n",
      "\n",
      "\n",
      " [[[ 0.44313725  0.98823529  0.69411765]\n",
      "   [ 0.64705882  0.7372549   0.45882353]\n",
      "   [ 0.41568627  0.30980392  0.54509804]\n",
      "   ..., \n",
      "   [ 0.74509804  0.36470588  0.13333333]\n",
      "   [ 0.20784314  0.70196078  0.75294118]\n",
      "   [ 0.78431373  0.26666667  0.90588235]]\n",
      "\n",
      "  [[ 0.80392157  0.70196078  0.89019608]\n",
      "   [ 0.5254902   0.96862745  0.75686275]\n",
      "   [ 0.23921569  0.12941176  0.62352941]\n",
      "   ..., \n",
      "   [ 0.21960784  0.91764706  0.92941176]\n",
      "   [ 0.80392157  0.58823529  0.4627451 ]\n",
      "   [ 0.83921569  0.32941176  0.84705882]]\n",
      "\n",
      "  [[ 0.35686275  0.27843137  0.08235294]\n",
      "   [ 0.34509804  0.69411765  0.44313725]\n",
      "   [ 0.74117647  0.73333333  0.09019608]\n",
      "   ..., \n",
      "   [ 0.03921569  0.91764706  0.17254902]\n",
      "   [ 0.1254902   0.45098039  0.7254902 ]\n",
      "   [ 0.54509804  0.03921569  0.16470588]]\n",
      "\n",
      "  ..., \n",
      "  [[ 0.29803922  0.24705882  0.43921569]\n",
      "   [ 0.0745098   0.96078431  0.31764706]\n",
      "   [ 0.70196078  0.84705882  0.7254902 ]\n",
      "   ..., \n",
      "   [ 0.1372549   0.79215686  0.23137255]\n",
      "   [ 0.21568627  0.60392157  0.17647059]\n",
      "   [ 0.96470588  0.87843137  0.41176471]]\n",
      "\n",
      "  [[ 0.14117647  0.27843137  0.01568627]\n",
      "   [ 0.55294118  0.01176471  0.56470588]\n",
      "   [ 0.08235294  0.50588235  0.80784314]\n",
      "   ..., \n",
      "   [ 0.63921569  0.1254902   0.42745098]\n",
      "   [ 0.0745098   0.85490196  0.71764706]\n",
      "   [ 0.11764706  0.78039216  0.69019608]]\n",
      "\n",
      "  [[ 0.39607843  0.58039216  0.48627451]\n",
      "   [ 0.60784314  0.18039216  0.75294118]\n",
      "   [ 0.98039216  0.87843137  0.50980392]\n",
      "   ..., \n",
      "   [ 0.49019608  0.8         0.34117647]\n",
      "   [ 0.56470588  0.3372549   0.6       ]\n",
      "   [ 0.45490196  0.03137255  0.39607843]]]\n",
      "\n",
      "\n",
      " [[[ 0.37254902  0.72941176  0.43921569]\n",
      "   [ 0.30588235  0.82745098  0.88627451]\n",
      "   [ 0.68627451  0.41176471  0.09411765]\n",
      "   ..., \n",
      "   [ 0.18431373  0.93333333  0.77647059]\n",
      "   [ 0.58039216  0.20392157  0.70196078]\n",
      "   [ 0.81568627  0.72941176  0.94901961]]\n",
      "\n",
      "  [[ 1.          0.20392157  0.61960784]\n",
      "   [ 0.41568627  0.22745098  0.66666667]\n",
      "   [ 0.67058824  0.6         0.86666667]\n",
      "   ..., \n",
      "   [ 0.5254902   0.02745098  0.37647059]\n",
      "   [ 0.0745098   0.55686275  0.93333333]\n",
      "   [ 0.98823529  0.84705882  1.        ]]\n",
      "\n",
      "  [[ 0.72941176  0.87058824  0.08235294]\n",
      "   [ 0.52156863  0.16862745  0.14901961]\n",
      "   [ 0.10980392  0.90588235  0.98823529]\n",
      "   ..., \n",
      "   [ 0.07843137  0.05098039  0.7372549 ]\n",
      "   [ 0.84705882  0.94117647  0.96078431]\n",
      "   [ 0.64705882  0.96470588  0.08235294]]\n",
      "\n",
      "  ..., \n",
      "  [[ 0.22352941  0.72156863  0.28627451]\n",
      "   [ 0.63529412  0.01568627  0.54117647]\n",
      "   [ 0.34117647  0.70588235  0.75294118]\n",
      "   ..., \n",
      "   [ 0.81960784  0.2745098   0.33333333]\n",
      "   [ 0.80392157  0.83529412  0.84313725]\n",
      "   [ 0.60784314  0.86666667  0.75294118]]\n",
      "\n",
      "  [[ 0.28235294  0.97647059  0.04705882]\n",
      "   [ 0.54117647  0.39215686  0.12156863]\n",
      "   [ 0.14509804  0.4627451   0.15686275]\n",
      "   ..., \n",
      "   [ 0.85490196  0.7254902   0.62745098]\n",
      "   [ 0.00784314  0.79607843  0.25882353]\n",
      "   [ 0.92941176  0.84705882  0.16470588]]\n",
      "\n",
      "  [[ 0.96078431  0.05882353  0.47058824]\n",
      "   [ 0.17647059  0.96862745  0.33333333]\n",
      "   [ 0.7254902   0.63921569  0.61176471]\n",
      "   ..., \n",
      "   [ 0.1372549   0.69803922  0.29019608]\n",
      "   [ 0.36078431  0.56470588  0.62352941]\n",
      "   [ 0.14117647  0.79215686  0.79607843]]]]\n"
     ]
    }
   ],
   "source": [
    "test_shape = (np.random.choice(range(1000)), 32, 32, 3)\n",
    "test_numbers = np.random.choice(range(256), test_shape)\n",
    "max = np.max(test_numbers)\n",
    "min = np.min(test_numbers)\n",
    "y = (test_numbers - min)/(max-min)\n",
    "print('%s'%y)"
   ]
  },
  {
   "cell_type": "code",
   "execution_count": 17,
   "metadata": {},
   "outputs": [
    {
     "name": "stdout",
     "output_type": "stream",
     "text": [
      "Tests Passed\n"
     ]
    }
   ],
   "source": [
    "def normalize(x):\n",
    "    \"\"\"\n",
    "    Normalize a list of sample image data in the range of 0 to 1\n",
    "    : x: List of image data.  The image shape is (32, 32, 3)\n",
    "    : return: Numpy array of normalize data\n",
    "    \"\"\"\n",
    "    # TODO: Implement Function\n",
    "    max = np.max(x)\n",
    "    min = np.min(x)\n",
    "    norm_x = (x-min)/(max-min)\n",
    "    return norm_x\n",
    "\n",
    "\n",
    "\"\"\"\n",
    "DON'T MODIFY ANYTHING IN THIS CELL THAT IS BELOW THIS LINE\n",
    "\"\"\"\n",
    "tests.test_normalize(normalize)"
   ]
  },
  {
   "cell_type": "markdown",
   "metadata": {},
   "source": [
    "### One-hot encode\n",
    "Just like the previous code cell, you'll be implementing a function for preprocessing.  This time, you'll implement the `one_hot_encode` function. The input, `x`, are a list of labels.  Implement the function to return the list of labels as One-Hot encoded Numpy array.  The possible values for labels are 0 to 9. The one-hot encoding function should return the same encoding for each value between each call to `one_hot_encode`.  Make sure to save the map of encodings outside the function.\n",
    "\n",
    "**Hint:**\n",
    "\n",
    "Look into LabelBinarizer in the preprocessing module of sklearn."
   ]
  },
  {
   "cell_type": "code",
   "execution_count": 20,
   "metadata": {},
   "outputs": [
    {
     "name": "stdout",
     "output_type": "stream",
     "text": [
      "Tests Passed\n"
     ]
    }
   ],
   "source": [
    "def one_hot_encode(x):\n",
    "    \"\"\"\n",
    "    One hot encode a list of sample labels. Return a one-hot encoded vector for each label.\n",
    "    : x: List of sample Labels\n",
    "    : return: Numpy array of one-hot encoded labels\n",
    "    \"\"\"\n",
    "    # TODO: Implement Function\n",
    "    from sklearn import preprocessing\n",
    "    lb = preprocessing.LabelBinarizer()\n",
    "    lb.fit(np.arange(10))\n",
    "    encoded_x=lb.transform(x)\n",
    "    return encoded_x\n",
    "\n",
    "\n",
    "\"\"\"\n",
    "DON'T MODIFY ANYTHING IN THIS CELL THAT IS BELOW THIS LINE\n",
    "\"\"\"\n",
    "tests.test_one_hot_encode(one_hot_encode)"
   ]
  },
  {
   "cell_type": "markdown",
   "metadata": {},
   "source": [
    "### Randomize Data\n",
    "As you saw from exploring the data above, the order of the samples are randomized.  It doesn't hurt to randomize it again, but you don't need to for this dataset."
   ]
  },
  {
   "cell_type": "markdown",
   "metadata": {},
   "source": [
    "## Preprocess all the data and save it\n",
    "Running the code cell below will preprocess all the CIFAR-10 data and save it to file. The code below also uses 10% of the training data for validation."
   ]
  },
  {
   "cell_type": "code",
   "execution_count": 22,
   "metadata": {
    "collapsed": true
   },
   "outputs": [],
   "source": [
    "\"\"\"\n",
    "DON'T MODIFY ANYTHING IN THIS CELL\n",
    "\"\"\"\n",
    "# Preprocess Training, Validation, and Testing Data\n",
    "helper.preprocess_and_save_data(cifar10_dataset_folder_path, normalize, one_hot_encode)"
   ]
  },
  {
   "cell_type": "markdown",
   "metadata": {},
   "source": [
    "# Check Point\n",
    "This is your first checkpoint.  If you ever decide to come back to this notebook or have to restart the notebook, you can start from here.  The preprocessed data has been saved to disk."
   ]
  },
  {
   "cell_type": "code",
   "execution_count": 23,
   "metadata": {
    "collapsed": true
   },
   "outputs": [],
   "source": [
    "\"\"\"\n",
    "DON'T MODIFY ANYTHING IN THIS CELL\n",
    "\"\"\"\n",
    "import pickle\n",
    "import problem_unittests as tests\n",
    "import helper\n",
    "\n",
    "# Load the Preprocessed Validation data\n",
    "valid_features, valid_labels = pickle.load(open('preprocess_validation.p', mode='rb'))"
   ]
  },
  {
   "cell_type": "markdown",
   "metadata": {},
   "source": [
    "## Build the network\n",
    "For the neural network, you'll build each layer into a function.  Most of the code you've seen has been outside of functions. To test your code more thoroughly, we require that you put each layer in a function.  This allows us to give you better feedback and test for simple mistakes using our unittests before you submit your project.\n",
    "\n",
    ">**Note:** If you're finding it hard to dedicate enough time for this course each week, we've provided a small shortcut to this part of the project. In the next couple of problems, you'll have the option to use classes from the [TensorFlow Layers](https://www.tensorflow.org/api_docs/python/tf/layers) or [TensorFlow Layers (contrib)](https://www.tensorflow.org/api_guides/python/contrib.layers) packages to build each layer, except the layers you build in the \"Convolutional and Max Pooling Layer\" section.  TF Layers is similar to Keras's and TFLearn's abstraction to layers, so it's easy to pickup.\n",
    "\n",
    ">However, if you would like to get the most out of this course, try to solve all the problems _without_ using anything from the TF Layers packages. You **can** still use classes from other packages that happen to have the same name as ones you find in TF Layers! For example, instead of using the TF Layers version of the `conv2d` class, [tf.layers.conv2d](https://www.tensorflow.org/api_docs/python/tf/layers/conv2d), you would want to use the TF Neural Network version of `conv2d`, [tf.nn.conv2d](https://www.tensorflow.org/api_docs/python/tf/nn/conv2d). \n",
    "\n",
    "Let's begin!\n",
    "\n",
    "### Input\n",
    "The neural network needs to read the image data, one-hot encoded labels, and dropout keep probability. Implement the following functions\n",
    "* Implement `neural_net_image_input`\n",
    " * Return a [TF Placeholder](https://www.tensorflow.org/api_docs/python/tf/placeholder)\n",
    " * Set the shape using `image_shape` with batch size set to `None`.\n",
    " * Name the TensorFlow placeholder \"x\" using the TensorFlow `name` parameter in the [TF Placeholder](https://www.tensorflow.org/api_docs/python/tf/placeholder).\n",
    "* Implement `neural_net_label_input`\n",
    " * Return a [TF Placeholder](https://www.tensorflow.org/api_docs/python/tf/placeholder)\n",
    " * Set the shape using `n_classes` with batch size set to `None`.\n",
    " * Name the TensorFlow placeholder \"y\" using the TensorFlow `name` parameter in the [TF Placeholder](https://www.tensorflow.org/api_docs/python/tf/placeholder).\n",
    "* Implement `neural_net_keep_prob_input`\n",
    " * Return a [TF Placeholder](https://www.tensorflow.org/api_docs/python/tf/placeholder) for dropout keep probability.\n",
    " * Name the TensorFlow placeholder \"keep_prob\" using the TensorFlow `name` parameter in the [TF Placeholder](https://www.tensorflow.org/api_docs/python/tf/placeholder).\n",
    "\n",
    "These names will be used at the end of the project to load your saved model.\n",
    "\n",
    "Note: `None` for shapes in TensorFlow allow for a dynamic size."
   ]
  },
  {
   "cell_type": "code",
   "execution_count": 41,
   "metadata": {},
   "outputs": [
    {
     "data": {
      "text/plain": [
       "array([None, 32, 32, 3], dtype=object)"
      ]
     },
     "execution_count": 41,
     "metadata": {},
     "output_type": "execute_result"
    }
   ],
   "source": [
    "image_shape = (32, 32, 3)\n",
    "np.append(None,image_shape)"
   ]
  },
  {
   "cell_type": "code",
   "execution_count": 50,
   "metadata": {},
   "outputs": [
    {
     "name": "stdout",
     "output_type": "stream",
     "text": [
      "Image Input Tests Passed.\n",
      "Label Input Tests Passed.\n",
      "Keep Prob Tests Passed.\n"
     ]
    }
   ],
   "source": [
    "import tensorflow as tf\n",
    "\n",
    "def neural_net_image_input(image_shape):\n",
    "    \"\"\"\n",
    "    Return a Tensor for a batch of image input\n",
    "    : image_shape: Shape of the images\n",
    "    : return: Tensor for image input.\n",
    "    \"\"\"\n",
    "    # TODO: Implement Function\n",
    "    return tf.placeholder(tf.float32, shape=np.append(None, image_shape),name=\"x\")\n",
    "\n",
    "\n",
    "\n",
    "\n",
    "def neural_net_label_input(n_classes):\n",
    "    \"\"\"\n",
    "    Return a Tensor for a batch of label input\n",
    "    : n_classes: Number of classes\n",
    "    : return: Tensor for label input.\n",
    "    \"\"\"\n",
    "    # TODO: Implement Function\n",
    "    return tf.placeholder(tf.float32, shape=[None, n_classes],name=\"y\")\n",
    "\n",
    "\n",
    "def neural_net_keep_prob_input():\n",
    "    \"\"\"\n",
    "    Return a Tensor for keep probability\n",
    "    : return: Tensor for keep probability.\n",
    "    \"\"\"\n",
    "    # TODO: Implement Function\n",
    "    return tf.placeholder(tf.float32,name=\"keep_prob\")\n",
    "\n",
    "\n",
    "\"\"\"\n",
    "DON'T MODIFY ANYTHING IN THIS CELL THAT IS BELOW THIS LINE\n",
    "\"\"\"\n",
    "tf.reset_default_graph()\n",
    "tests.test_nn_image_inputs(neural_net_image_input)\n",
    "tests.test_nn_label_inputs(neural_net_label_input)\n",
    "tests.test_nn_keep_prob_inputs(neural_net_keep_prob_input)"
   ]
  },
  {
   "cell_type": "markdown",
   "metadata": {},
   "source": [
    "### Convolution and Max Pooling Layer\n",
    "Convolution layers have a lot of success with images. For this code cell, you should implement the function `conv2d_maxpool` to apply convolution then max pooling:\n",
    "* Create the weight and bias using `conv_ksize`, `conv_num_outputs` and the shape of `x_tensor`.\n",
    "* Apply a convolution to `x_tensor` using weight and `conv_strides`.\n",
    " * We recommend you use same padding, but you're welcome to use any padding.\n",
    "* Add bias\n",
    "* Add a nonlinear activation to the convolution.\n",
    "* Apply Max Pooling using `pool_ksize` and `pool_strides`.\n",
    " * We recommend you use same padding, but you're welcome to use any padding.\n",
    "\n",
    "**Note:** You **can't** use [TensorFlow Layers](https://www.tensorflow.org/api_docs/python/tf/layers) or [TensorFlow Layers (contrib)](https://www.tensorflow.org/api_guides/python/contrib.layers) for **this** layer, but you can still use TensorFlow's [Neural Network](https://www.tensorflow.org/api_docs/python/tf/nn) package. You may still use the shortcut option for all the **other** layers.\n",
    "\n",
    "** Hint: **\n",
    "\n",
    "When unpacking values as an argument in Python, look into the [unpacking](https://docs.python.org/3/tutorial/controlflow.html#unpacking-argument-lists) operator. "
   ]
  },
  {
   "cell_type": "code",
   "execution_count": 64,
   "metadata": {},
   "outputs": [
    {
     "name": "stdout",
     "output_type": "stream",
     "text": [
      "[1, 2, 2, 1]\n"
     ]
    },
    {
     "ename": "AttributeError",
     "evalue": "'numpy.ndarray' object has no attribute 'append'",
     "output_type": "error",
     "traceback": [
      "\u001b[0;31m---------------------------------------------------------------------------\u001b[0m",
      "\u001b[0;31mAttributeError\u001b[0m                            Traceback (most recent call last)",
      "\u001b[0;32m<ipython-input-64-0bd168130fe5>\u001b[0m in \u001b[0;36m<module>\u001b[0;34m()\u001b[0m\n\u001b[1;32m      9\u001b[0m \u001b[0my\u001b[0m \u001b[0;34m=\u001b[0m \u001b[0;34m[\u001b[0m\u001b[0;36m1\u001b[0m\u001b[0;34m,\u001b[0m\u001b[0mtest_con_k\u001b[0m\u001b[0;34m[\u001b[0m\u001b[0;36m0\u001b[0m\u001b[0;34m]\u001b[0m\u001b[0;34m,\u001b[0m\u001b[0mtest_con_k\u001b[0m\u001b[0;34m[\u001b[0m\u001b[0;36m1\u001b[0m\u001b[0;34m]\u001b[0m\u001b[0;34m,\u001b[0m\u001b[0;36m1\u001b[0m\u001b[0;34m]\u001b[0m\u001b[0;34m\u001b[0m\u001b[0m\n\u001b[1;32m     10\u001b[0m \u001b[0mprint\u001b[0m\u001b[0;34m(\u001b[0m\u001b[0my\u001b[0m\u001b[0;34m)\u001b[0m\u001b[0;34m\u001b[0m\u001b[0m\n\u001b[0;32m---> 11\u001b[0;31m \u001b[0mx\u001b[0m\u001b[0;34m=\u001b[0m\u001b[0mnp\u001b[0m\u001b[0;34m.\u001b[0m\u001b[0mappend\u001b[0m\u001b[0;34m(\u001b[0m\u001b[0;34m[\u001b[0m\u001b[0;36m1\u001b[0m\u001b[0;34m]\u001b[0m\u001b[0;34m,\u001b[0m\u001b[0mtest_con_k\u001b[0m\u001b[0;34m)\u001b[0m\u001b[0;34m.\u001b[0m\u001b[0mappend\u001b[0m\u001b[0;34m(\u001b[0m\u001b[0;34m[\u001b[0m\u001b[0;36m1\u001b[0m\u001b[0;34m]\u001b[0m\u001b[0;34m)\u001b[0m\u001b[0;34m\u001b[0m\u001b[0m\n\u001b[0m",
      "\u001b[0;31mAttributeError\u001b[0m: 'numpy.ndarray' object has no attribute 'append'"
     ]
    }
   ],
   "source": [
    "test_x = tf.placeholder(tf.float32, [None, 32, 32, 5])\n",
    "test_num_outputs = 10\n",
    "test_con_k = (2, 2)\n",
    "test_con_s = (4, 4)\n",
    "test_pool_k = (2, 2)\n",
    "test_pool_s = (2, 2)\n",
    "\n",
    "#conv2d_maxpool_out = conv2d_maxpool(test_x, test_num_outputs, test_con_k, test_con_s, test_pool_k, test_pool_s)\n",
    "y = [1,test_con_k[0],test_con_k[1],1]\n",
    "print(y)\n",
    "\n",
    "x=np.append([1],test_con_k)\n"
   ]
  },
  {
   "cell_type": "code",
   "execution_count": 68,
   "metadata": {},
   "outputs": [
    {
     "name": "stdout",
     "output_type": "stream",
     "text": [
      "Tests Passed\n"
     ]
    }
   ],
   "source": [
    "def conv2d_maxpool(x_tensor, conv_num_outputs, conv_ksize, conv_strides, pool_ksize, pool_strides):\n",
    "    \"\"\"\n",
    "    Apply convolution then max pooling to x_tensor\n",
    "    :param x_tensor: TensorFlow Tensor\n",
    "    :param conv_num_outputs: Number of outputs for the convolutional layer\n",
    "    :param conv_ksize: kernal size 2-D Tuple for the convolutional layer\n",
    "    :param conv_strides: Stride 2-D Tuple for convolution\n",
    "    :param pool_ksize: kernal size 2-D Tuple for pool\n",
    "    :param pool_strides: Stride 2-D Tuple for pool\n",
    "    : return: A tensor that represents convolution and max pooling of x_tensor\n",
    "    \"\"\"\n",
    "    # TODO: Implement Function\n",
    "    height= int(x_tensor.shape[1])\n",
    "    width = int(x_tensor.shape[2])\n",
    "    depth = int(x_tensor.shape[3])\n",
    "    \n",
    "    weights = tf.Variable(tf.truncated_normal((height, width, depth, conv_num_outputs))) # (height, width, input_depth, output_depth)\n",
    "    bias = tf.Variable(tf.zeros(conv_num_outputs))\n",
    "    padding = 'SAME'\n",
    "    conv_strides= [1, conv_strides[0], conv_strides[1], 1]\n",
    "    conv = tf.nn.conv2d(x_tensor, weights, conv_strides, padding)\n",
    "    conv = tf.nn.bias_add(conv, bias)\n",
    "    conv = tf.nn.relu(conv)\n",
    "    pool_ksize = [1, pool_ksize[0],pool_ksize[1], 1]\n",
    "    pool_strides= [1, pool_strides[0],pool_strides[1], 1]\n",
    "    conv = tf.nn.max_pool(conv, pool_ksize, pool_strides, padding)\n",
    "    \n",
    "    return conv \n",
    "\n",
    "\n",
    "\"\"\"\n",
    "DON'T MODIFY ANYTHING IN THIS CELL THAT IS BELOW THIS LINE\n",
    "\"\"\"\n",
    "tests.test_con_pool(conv2d_maxpool)"
   ]
  },
  {
   "cell_type": "markdown",
   "metadata": {},
   "source": [
    "### Flatten Layer\n",
    "Implement the `flatten` function to change the dimension of `x_tensor` from a 4-D tensor to a 2-D tensor.  The output should be the shape (*Batch Size*, *Flattened Image Size*). Shortcut option: you can use classes from the [TensorFlow Layers](https://www.tensorflow.org/api_docs/python/tf/layers) or [TensorFlow Layers (contrib)](https://www.tensorflow.org/api_guides/python/contrib.layers) packages for this layer. For more of a challenge, only use other TensorFlow packages."
   ]
  },
  {
   "cell_type": "code",
   "execution_count": 69,
   "metadata": {},
   "outputs": [
    {
     "name": "stdout",
     "output_type": "stream",
     "text": [
      "Tests Passed\n"
     ]
    }
   ],
   "source": [
    "def flatten(x_tensor):\n",
    "    \"\"\"\n",
    "    Flatten x_tensor to (Batch Size, Flattened Image Size)\n",
    "    : x_tensor: A tensor of size (Batch Size, ...), where ... are the image dimensions.\n",
    "    : return: A tensor of size (Batch Size, Flattened Image Size).\n",
    "    \"\"\"\n",
    "    # TODO: Implement Function\n",
    "    height= int(x_tensor.shape[1])\n",
    "    width = int(x_tensor.shape[2])\n",
    "    depth = int(x_tensor.shape[3])\n",
    "    x_tensor_flat = tf.reshape(x_tensor, [-1, height * width * depth])\n",
    "    return x_tensor_flat\n",
    "\n",
    "\n",
    "\"\"\"\n",
    "DON'T MODIFY ANYTHING IN THIS CELL THAT IS BELOW THIS LINE\n",
    "\"\"\"\n",
    "tests.test_flatten(flatten)"
   ]
  },
  {
   "cell_type": "markdown",
   "metadata": {},
   "source": [
    "### Fully-Connected Layer\n",
    "Implement the `fully_conn` function to apply a fully connected layer to `x_tensor` with the shape (*Batch Size*, *num_outputs*). Shortcut option: you can use classes from the [TensorFlow Layers](https://www.tensorflow.org/api_docs/python/tf/layers) or [TensorFlow Layers (contrib)](https://www.tensorflow.org/api_guides/python/contrib.layers) packages for this layer. For more of a challenge, only use other TensorFlow packages."
   ]
  },
  {
   "cell_type": "code",
   "execution_count": null,
   "metadata": {
    "collapsed": true
   },
   "outputs": [],
   "source": [
    "def fully_conn(x_tensor, num_outputs):\n",
    "    \"\"\"\n",
    "    Apply a fully connected layer to x_tensor using weight and bias\n",
    "    : x_tensor: A 2-D tensor where the first dimension is batch size.\n",
    "    : num_outputs: The number of output that the new tensor should be.\n",
    "    : return: A 2-D tensor where the second dimension is num_outputs.\n",
    "    \"\"\"\n",
    "    # TODO: Implement Function\n",
    "    return None\n",
    "\n",
    "\n",
    "\"\"\"\n",
    "DON'T MODIFY ANYTHING IN THIS CELL THAT IS BELOW THIS LINE\n",
    "\"\"\"\n",
    "tests.test_fully_conn(fully_conn)"
   ]
  },
  {
   "cell_type": "markdown",
   "metadata": {},
   "source": [
    "### Output Layer\n",
    "Implement the `output` function to apply a fully connected layer to `x_tensor` with the shape (*Batch Size*, *num_outputs*). Shortcut option: you can use classes from the [TensorFlow Layers](https://www.tensorflow.org/api_docs/python/tf/layers) or [TensorFlow Layers (contrib)](https://www.tensorflow.org/api_guides/python/contrib.layers) packages for this layer. For more of a challenge, only use other TensorFlow packages.\n",
    "\n",
    "**Note:** Activation, softmax, or cross entropy should **not** be applied to this."
   ]
  },
  {
   "cell_type": "code",
   "execution_count": null,
   "metadata": {
    "collapsed": true
   },
   "outputs": [],
   "source": [
    "def output(x_tensor, num_outputs):\n",
    "    \"\"\"\n",
    "    Apply a output layer to x_tensor using weight and bias\n",
    "    : x_tensor: A 2-D tensor where the first dimension is batch size.\n",
    "    : num_outputs: The number of output that the new tensor should be.\n",
    "    : return: A 2-D tensor where the second dimension is num_outputs.\n",
    "    \"\"\"\n",
    "    # TODO: Implement Function\n",
    "    return None\n",
    "\n",
    "\n",
    "\"\"\"\n",
    "DON'T MODIFY ANYTHING IN THIS CELL THAT IS BELOW THIS LINE\n",
    "\"\"\"\n",
    "tests.test_output(output)"
   ]
  },
  {
   "cell_type": "markdown",
   "metadata": {},
   "source": [
    "### Create Convolutional Model\n",
    "Implement the function `conv_net` to create a convolutional neural network model. The function takes in a batch of images, `x`, and outputs logits.  Use the layers you created above to create this model:\n",
    "\n",
    "* Apply 1, 2, or 3 Convolution and Max Pool layers\n",
    "* Apply a Flatten Layer\n",
    "* Apply 1, 2, or 3 Fully Connected Layers\n",
    "* Apply an Output Layer\n",
    "* Return the output\n",
    "* Apply [TensorFlow's Dropout](https://www.tensorflow.org/api_docs/python/tf/nn/dropout) to one or more layers in the model using `keep_prob`. "
   ]
  },
  {
   "cell_type": "code",
   "execution_count": null,
   "metadata": {
    "collapsed": true
   },
   "outputs": [],
   "source": [
    "def conv_net(x, keep_prob):\n",
    "    \"\"\"\n",
    "    Create a convolutional neural network model\n",
    "    : x: Placeholder tensor that holds image data.\n",
    "    : keep_prob: Placeholder tensor that hold dropout keep probability.\n",
    "    : return: Tensor that represents logits\n",
    "    \"\"\"\n",
    "    # TODO: Apply 1, 2, or 3 Convolution and Max Pool layers\n",
    "    #    Play around with different number of outputs, kernel size and stride\n",
    "    # Function Definition from Above:\n",
    "    #    conv2d_maxpool(x_tensor, conv_num_outputs, conv_ksize, conv_strides, pool_ksize, pool_strides)\n",
    "    \n",
    "\n",
    "    # TODO: Apply a Flatten Layer\n",
    "    # Function Definition from Above:\n",
    "    #   flatten(x_tensor)\n",
    "    \n",
    "\n",
    "    # TODO: Apply 1, 2, or 3 Fully Connected Layers\n",
    "    #    Play around with different number of outputs\n",
    "    # Function Definition from Above:\n",
    "    #   fully_conn(x_tensor, num_outputs)\n",
    "    \n",
    "    \n",
    "    # TODO: Apply an Output Layer\n",
    "    #    Set this to the number of classes\n",
    "    # Function Definition from Above:\n",
    "    #   output(x_tensor, num_outputs)\n",
    "    \n",
    "    \n",
    "    # TODO: return output\n",
    "    return None\n",
    "\n",
    "\n",
    "\"\"\"\n",
    "DON'T MODIFY ANYTHING IN THIS CELL THAT IS BELOW THIS LINE\n",
    "\"\"\"\n",
    "\n",
    "##############################\n",
    "## Build the Neural Network ##\n",
    "##############################\n",
    "\n",
    "# Remove previous weights, bias, inputs, etc..\n",
    "tf.reset_default_graph()\n",
    "\n",
    "# Inputs\n",
    "x = neural_net_image_input((32, 32, 3))\n",
    "y = neural_net_label_input(10)\n",
    "keep_prob = neural_net_keep_prob_input()\n",
    "\n",
    "# Model\n",
    "logits = conv_net(x, keep_prob)\n",
    "\n",
    "# Name logits Tensor, so that is can be loaded from disk after training\n",
    "logits = tf.identity(logits, name='logits')\n",
    "\n",
    "# Loss and Optimizer\n",
    "cost = tf.reduce_mean(tf.nn.softmax_cross_entropy_with_logits(logits=logits, labels=y))\n",
    "optimizer = tf.train.AdamOptimizer().minimize(cost)\n",
    "\n",
    "# Accuracy\n",
    "correct_pred = tf.equal(tf.argmax(logits, 1), tf.argmax(y, 1))\n",
    "accuracy = tf.reduce_mean(tf.cast(correct_pred, tf.float32), name='accuracy')\n",
    "\n",
    "tests.test_conv_net(conv_net)"
   ]
  },
  {
   "cell_type": "markdown",
   "metadata": {},
   "source": [
    "## Train the Neural Network\n",
    "### Single Optimization\n",
    "Implement the function `train_neural_network` to do a single optimization.  The optimization should use `optimizer` to optimize in `session` with a `feed_dict` of the following:\n",
    "* `x` for image input\n",
    "* `y` for labels\n",
    "* `keep_prob` for keep probability for dropout\n",
    "\n",
    "This function will be called for each batch, so `tf.global_variables_initializer()` has already been called.\n",
    "\n",
    "Note: Nothing needs to be returned. This function is only optimizing the neural network."
   ]
  },
  {
   "cell_type": "code",
   "execution_count": null,
   "metadata": {
    "collapsed": true
   },
   "outputs": [],
   "source": [
    "def train_neural_network(session, optimizer, keep_probability, feature_batch, label_batch):\n",
    "    \"\"\"\n",
    "    Optimize the session on a batch of images and labels\n",
    "    : session: Current TensorFlow session\n",
    "    : optimizer: TensorFlow optimizer function\n",
    "    : keep_probability: keep probability\n",
    "    : feature_batch: Batch of Numpy image data\n",
    "    : label_batch: Batch of Numpy label data\n",
    "    \"\"\"\n",
    "    # TODO: Implement Function\n",
    "    pass\n",
    "\n",
    "\n",
    "\"\"\"\n",
    "DON'T MODIFY ANYTHING IN THIS CELL THAT IS BELOW THIS LINE\n",
    "\"\"\"\n",
    "tests.test_train_nn(train_neural_network)"
   ]
  },
  {
   "cell_type": "markdown",
   "metadata": {},
   "source": [
    "### Show Stats\n",
    "Implement the function `print_stats` to print loss and validation accuracy.  Use the global variables `valid_features` and `valid_labels` to calculate validation accuracy.  Use a keep probability of `1.0` to calculate the loss and validation accuracy."
   ]
  },
  {
   "cell_type": "code",
   "execution_count": null,
   "metadata": {
    "collapsed": true
   },
   "outputs": [],
   "source": [
    "def print_stats(session, feature_batch, label_batch, cost, accuracy):\n",
    "    \"\"\"\n",
    "    Print information about loss and validation accuracy\n",
    "    : session: Current TensorFlow session\n",
    "    : feature_batch: Batch of Numpy image data\n",
    "    : label_batch: Batch of Numpy label data\n",
    "    : cost: TensorFlow cost function\n",
    "    : accuracy: TensorFlow accuracy function\n",
    "    \"\"\"\n",
    "    # TODO: Implement Function\n",
    "    pass"
   ]
  },
  {
   "cell_type": "markdown",
   "metadata": {},
   "source": [
    "### Hyperparameters\n",
    "Tune the following parameters:\n",
    "* Set `epochs` to the number of iterations until the network stops learning or start overfitting\n",
    "* Set `batch_size` to the highest number that your machine has memory for.  Most people set them to common sizes of memory:\n",
    " * 64\n",
    " * 128\n",
    " * 256\n",
    " * ...\n",
    "* Set `keep_probability` to the probability of keeping a node using dropout"
   ]
  },
  {
   "cell_type": "code",
   "execution_count": null,
   "metadata": {
    "collapsed": true
   },
   "outputs": [],
   "source": [
    "# TODO: Tune Parameters\n",
    "epochs = None\n",
    "batch_size = None\n",
    "keep_probability = None"
   ]
  },
  {
   "cell_type": "markdown",
   "metadata": {},
   "source": [
    "### Train on a Single CIFAR-10 Batch\n",
    "Instead of training the neural network on all the CIFAR-10 batches of data, let's use a single batch. This should save time while you iterate on the model to get a better accuracy.  Once the final validation accuracy is 50% or greater, run the model on all the data in the next section."
   ]
  },
  {
   "cell_type": "code",
   "execution_count": null,
   "metadata": {
    "collapsed": true
   },
   "outputs": [],
   "source": [
    "\"\"\"\n",
    "DON'T MODIFY ANYTHING IN THIS CELL\n",
    "\"\"\"\n",
    "print('Checking the Training on a Single Batch...')\n",
    "with tf.Session() as sess:\n",
    "    # Initializing the variables\n",
    "    sess.run(tf.global_variables_initializer())\n",
    "    \n",
    "    # Training cycle\n",
    "    for epoch in range(epochs):\n",
    "        batch_i = 1\n",
    "        for batch_features, batch_labels in helper.load_preprocess_training_batch(batch_i, batch_size):\n",
    "            train_neural_network(sess, optimizer, keep_probability, batch_features, batch_labels)\n",
    "        print('Epoch {:>2}, CIFAR-10 Batch {}:  '.format(epoch + 1, batch_i), end='')\n",
    "        print_stats(sess, batch_features, batch_labels, cost, accuracy)"
   ]
  },
  {
   "cell_type": "markdown",
   "metadata": {},
   "source": [
    "### Fully Train the Model\n",
    "Now that you got a good accuracy with a single CIFAR-10 batch, try it with all five batches."
   ]
  },
  {
   "cell_type": "code",
   "execution_count": null,
   "metadata": {
    "collapsed": true
   },
   "outputs": [],
   "source": [
    "\"\"\"\n",
    "DON'T MODIFY ANYTHING IN THIS CELL\n",
    "\"\"\"\n",
    "save_model_path = './image_classification'\n",
    "\n",
    "print('Training...')\n",
    "with tf.Session() as sess:\n",
    "    # Initializing the variables\n",
    "    sess.run(tf.global_variables_initializer())\n",
    "    \n",
    "    # Training cycle\n",
    "    for epoch in range(epochs):\n",
    "        # Loop over all batches\n",
    "        n_batches = 5\n",
    "        for batch_i in range(1, n_batches + 1):\n",
    "            for batch_features, batch_labels in helper.load_preprocess_training_batch(batch_i, batch_size):\n",
    "                train_neural_network(sess, optimizer, keep_probability, batch_features, batch_labels)\n",
    "            print('Epoch {:>2}, CIFAR-10 Batch {}:  '.format(epoch + 1, batch_i), end='')\n",
    "            print_stats(sess, batch_features, batch_labels, cost, accuracy)\n",
    "            \n",
    "    # Save Model\n",
    "    saver = tf.train.Saver()\n",
    "    save_path = saver.save(sess, save_model_path)"
   ]
  },
  {
   "cell_type": "markdown",
   "metadata": {},
   "source": [
    "# Checkpoint\n",
    "The model has been saved to disk.\n",
    "## Test Model\n",
    "Test your model against the test dataset.  This will be your final accuracy. You should have an accuracy greater than 50%. If you don't, keep tweaking the model architecture and parameters."
   ]
  },
  {
   "cell_type": "code",
   "execution_count": null,
   "metadata": {
    "collapsed": true
   },
   "outputs": [],
   "source": [
    "\"\"\"\n",
    "DON'T MODIFY ANYTHING IN THIS CELL\n",
    "\"\"\"\n",
    "%matplotlib inline\n",
    "%config InlineBackend.figure_format = 'retina'\n",
    "\n",
    "import tensorflow as tf\n",
    "import pickle\n",
    "import helper\n",
    "import random\n",
    "\n",
    "# Set batch size if not already set\n",
    "try:\n",
    "    if batch_size:\n",
    "        pass\n",
    "except NameError:\n",
    "    batch_size = 64\n",
    "\n",
    "save_model_path = './image_classification'\n",
    "n_samples = 4\n",
    "top_n_predictions = 3\n",
    "\n",
    "def test_model():\n",
    "    \"\"\"\n",
    "    Test the saved model against the test dataset\n",
    "    \"\"\"\n",
    "\n",
    "    test_features, test_labels = pickle.load(open('preprocess_training.p', mode='rb'))\n",
    "    loaded_graph = tf.Graph()\n",
    "\n",
    "    with tf.Session(graph=loaded_graph) as sess:\n",
    "        # Load model\n",
    "        loader = tf.train.import_meta_graph(save_model_path + '.meta')\n",
    "        loader.restore(sess, save_model_path)\n",
    "\n",
    "        # Get Tensors from loaded model\n",
    "        loaded_x = loaded_graph.get_tensor_by_name('x:0')\n",
    "        loaded_y = loaded_graph.get_tensor_by_name('y:0')\n",
    "        loaded_keep_prob = loaded_graph.get_tensor_by_name('keep_prob:0')\n",
    "        loaded_logits = loaded_graph.get_tensor_by_name('logits:0')\n",
    "        loaded_acc = loaded_graph.get_tensor_by_name('accuracy:0')\n",
    "        \n",
    "        # Get accuracy in batches for memory limitations\n",
    "        test_batch_acc_total = 0\n",
    "        test_batch_count = 0\n",
    "        \n",
    "        for train_feature_batch, train_label_batch in helper.batch_features_labels(test_features, test_labels, batch_size):\n",
    "            test_batch_acc_total += sess.run(\n",
    "                loaded_acc,\n",
    "                feed_dict={loaded_x: train_feature_batch, loaded_y: train_label_batch, loaded_keep_prob: 1.0})\n",
    "            test_batch_count += 1\n",
    "\n",
    "        print('Testing Accuracy: {}\\n'.format(test_batch_acc_total/test_batch_count))\n",
    "\n",
    "        # Print Random Samples\n",
    "        random_test_features, random_test_labels = tuple(zip(*random.sample(list(zip(test_features, test_labels)), n_samples)))\n",
    "        random_test_predictions = sess.run(\n",
    "            tf.nn.top_k(tf.nn.softmax(loaded_logits), top_n_predictions),\n",
    "            feed_dict={loaded_x: random_test_features, loaded_y: random_test_labels, loaded_keep_prob: 1.0})\n",
    "        helper.display_image_predictions(random_test_features, random_test_labels, random_test_predictions)\n",
    "\n",
    "\n",
    "test_model()"
   ]
  },
  {
   "cell_type": "markdown",
   "metadata": {},
   "source": [
    "## Why 50-80% Accuracy?\n",
    "You might be wondering why you can't get an accuracy any higher. First things first, 50% isn't bad for a simple CNN.  Pure guessing would get you 10% accuracy. That's because there are many more techniques that can be applied to your model and we recemmond that once you are done with this project, you explore!\n",
    "\n",
    "## Submitting This Project\n",
    "When submitting this project, make sure to run all the cells before saving the notebook.  Save the notebook file as \"image_classification.ipynb\" and save it as a HTML file under \"File\" -> \"Download as\".  Include the \"helper.py\" and \"problem_unittests.py\" files in your submission."
   ]
  }
 ],
 "metadata": {
  "kernelspec": {
   "display_name": "Python 3",
   "language": "python",
   "name": "python3"
  },
  "language_info": {
   "codemirror_mode": {
    "name": "ipython",
    "version": 3
   },
   "file_extension": ".py",
   "mimetype": "text/x-python",
   "name": "python",
   "nbconvert_exporter": "python",
   "pygments_lexer": "ipython3",
   "version": "3.5.3"
  }
 },
 "nbformat": 4,
 "nbformat_minor": 1
}
